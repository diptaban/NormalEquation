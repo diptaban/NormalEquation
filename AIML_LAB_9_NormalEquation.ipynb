{
  "nbformat": 4,
  "nbformat_minor": 0,
  "metadata": {
    "colab": {
      "provenance": [],
      "collapsed_sections": [],
      "include_colab_link": true
    },
    "kernelspec": {
      "name": "python3",
      "display_name": "Python 3"
    },
    "language_info": {
      "name": "python"
    }
  },
  "cells": [
    {
      "cell_type": "markdown",
      "metadata": {
        "id": "view-in-github",
        "colab_type": "text"
      },
      "source": [
        "<a href=\"https://colab.research.google.com/github/diptaban/NormalEquation/blob/main/AIML_LAB_9_NormalEquation.ipynb\" target=\"_parent\"><img src=\"https://colab.research.google.com/assets/colab-badge.svg\" alt=\"Open In Colab\"/></a>"
      ]
    },
    {
      "cell_type": "markdown",
      "source": [
        "# Normal Equation\n",
        "## ```Linear Regression ```\n",
        "## ```Polynomial Regression```\n",
        "\n",
        "```Normal Equation is an analytical approach to Linear Regression with a Least Square Cost Function.```\n",
        "\n",
        "---\n",
        "\n",
        "# $\\theta = (X^TX)^{-1}X^Ty$\n",
        "\n",
        "---\n",
        "\n",
        "\n"
      ],
      "metadata": {
        "id": "D8_S8ZucAbBI"
      }
    },
    {
      "cell_type": "code",
      "source": [
        "import numpy as np\n",
        "import matplotlib.pyplot as plt\n",
        "\n",
        "fig = plt.figure()\n",
        "ax = fig.add_subplot(1, 1, 1)\n",
        "ax.spines['left'].set_position('center')\n",
        "ax.spines['bottom'].set_position('center')\n",
        "ax.spines['right'].set_color('none')\n",
        "ax.spines['top'].set_color('none')\n",
        "ax.xaxis.set_ticks_position('bottom')\n",
        "ax.yaxis.set_ticks_position('left')\n",
        "ax = fig.add_subplot(1, 1, 1)\n",
        "\n",
        "def square_(x):\n",
        "    return x**2\n",
        "def cube_(x):\n",
        "    return x**3\n",
        "def fpow_(x):\n",
        "    return x**4\n",
        "def fifthpow_(x):\n",
        "  return x**5\n",
        "\n",
        "\n",
        "def preprocessing(X):\n",
        "    c = np.array(list(map(square_, X)))\n",
        "    d = np.array(list(map(cube_,X)))\n",
        "    e = np.array(list(map(fpow_,X)))\n",
        "    f = np.array(list(map(fifthpow_,X)))\n",
        "    X = np.concatenate((X,c),axis=1)\n",
        "    X = np.concatenate((X,d),axis=1)\n",
        "    X = np.concatenate((X,e),axis=1)\n",
        "    X = np.concatenate((X,f),axis=1)\n",
        "    #X = np.concatenate((X,e),axis=1)\n",
        "    for i in range(np.shape(X)[1]):\n",
        "        X[:,i] = X[:,i]/max(X[:,i])\n",
        "    return X\n",
        "    "
      ],
      "metadata": {
        "colab": {
          "base_uri": "https://localhost:8080/",
          "height": 313
        },
        "id": "tvUtRCK6C70h",
        "outputId": "2c75655c-fd3f-4c79-b116-6ddc0a508faa"
      },
      "execution_count": null,
      "outputs": [
        {
          "output_type": "stream",
          "name": "stderr",
          "text": [
            "/usr/local/lib/python3.7/dist-packages/ipykernel_launcher.py:12: MatplotlibDeprecationWarning: Adding an axes using the same arguments as a previous axes currently reuses the earlier instance.  In a future version, a new instance will always be created and returned.  Meanwhile, this warning can be suppressed, and the future behavior ensured, by passing a unique label to each axes instance.\n",
            "  if sys.path[0] == '':\n"
          ]
        },
        {
          "output_type": "display_data",
          "data": {
            "text/plain": [
              "<Figure size 432x288 with 1 Axes>"
            ],
            "image/png": "[encoded data removed]"
          },
          "metadata": {
            "needs_background": "light"
          }
        }
      ]
    },
    {
      "cell_type": "code",
      "execution_count": null,
      "metadata": {
        "colab": {
          "base_uri": "https://localhost:8080/",
          "height": 543
        },
        "id": "iH42f7j3AaeU",
        "outputId": "73338db0-2bc7-441a-bf07-412ac831c698"
      },
      "outputs": [
        {
          "output_type": "stream",
          "name": "stdout",
          "text": [
            "[[ 9.72779758e-05]\n",
            " [ 5.43400912e+04]\n",
            " [-3.88257031e+05]\n",
            " [ 1.02755534e+06]\n",
            " [-1.26343542e+06]\n",
            " [ 7.29658694e+05]\n",
            " [-1.59861064e+05]]\n",
            "(100, 1)\n",
            "[[ 9.72779758e-05]\n",
            " [ 5.43400912e+04]\n",
            " [-3.88257031e+05]\n",
            " [ 1.02755534e+06]\n",
            " [-1.26343542e+06]\n",
            " [ 7.29658694e+05]\n",
            " [-1.59861064e+05]]\n"
          ]
        },
        {
          "output_type": "execute_result",
          "data": {
            "text/plain": [
              "[<matplotlib.lines.Line2D at 0x7fd5bafe9f90>]"
            ]
          },
          "metadata": {},
          "execution_count": 10
        },
        {
          "output_type": "display_data",
          "data": {
            "text/plain": [
              "<Figure size 432x288 with 1 Axes>"
            ],
            "image/png": "[encoded data removed]"
          },
          "metadata": {
            "needs_background": "light"
          }
        }
      ],
      "source": [
        "\n",
        "\n",
        "def square_(x):\n",
        "    return x**2\n",
        "def cube_(x):\n",
        "    return x**3\n",
        "def fpow_(x):\n",
        "    return x**4\n",
        "def fifthpow_(x):\n",
        "  return x**5\n",
        "def spow_(x):\n",
        "  return x**6\n",
        "def sevpow_(x):\n",
        "  return x**7\n",
        "\n",
        "\n",
        "def preprocessing(X):\n",
        "    c = np.array(list(map(square_, X)))\n",
        "    d = np.array(list(map(cube_,X)))\n",
        "    e = np.array(list(map(fpow_,X)))\n",
        "    f = np.array(list(map(fifthpow_,X)))\n",
        "    g = np.array(list(map(spow_,X)))\n",
        "\n",
        "    X = np.concatenate((X,X**2,X**3,X**4,X**5,X**6),axis=1)\n",
        "    #X = np.concatenate((X,d),axis=1)\n",
        "    #X = np.concatenate((X,e),axis=1)\n",
        "    #X = np.concatenate((X,f),axis=1)\n",
        "    #X = np.concatenate((X,f),axis=1)\n",
        "   \n",
        "    for i in range(np.shape(X)[1]):\n",
        "        X[:,i] = X[:,i]/max(X[:,i])\n",
        "    return X\n",
        "\n",
        "\n",
        "import numpy as np\n",
        "import matplotlib.pyplot as plt\n",
        "X = np.array([[12.0], [13.0], [15.0], [19.616666666666667], [21.616666666666667], [22.616666666666667], [0.0], [0], [0], [0.0], [0.0], [0.0]])\n",
        "Xd = np.array([[12.0], [13.0], [15.0], [19.616666666666667], [21.616666666666667], [22.616666666666667], [0], [0], [0], [0.0], [0.0], [0.0]])\n",
        "y=np.array([[0.23119322528127], [200.22609856179042], [600.9010999342153], [600.5297172808816], [200.92446304186538], [0.60941999031827], [0.0], [0.0], [0.0], [0.0], [0.0], [0.0]])\n",
        "plt.scatter(Xd,y)\n",
        "X = preprocessing(X)\n",
        "m = np.shape(X)[0]\n",
        "X = np.concatenate((np.ones((m, 1)), X), axis=1)\n",
        "fst = np.linalg.inv(X.T.dot(X))\n",
        "snd = X.T.dot(y)\n",
        "theta = fst.dot(snd)\n",
        "#print(theta)\n",
        "#print(theta.shape)\n",
        "#theta = np.array([0.0002059851367448573,784545.2260894775,-3934461.0152282715,7312939.180511475,-5966986.089294434,1804075.9004821777])\n",
        "\n",
        "print(theta)\n",
        "x = (np.array([np.linspace(12, 22.6, 100)])).T\n",
        "lin = (np.array([np.linspace(12, 22.6, 100)])).T\n",
        "print(x.shape)\n",
        "x  = preprocessing(x)\n",
        "m = np.shape(x)[0]\n",
        "x= np.concatenate((np.ones((m, 1)), x), axis=1)\n",
        "\n",
        "hyp = x.dot(theta)\n",
        "print(theta)\n",
        "plt.plot(lin,hyp)\n",
        "#print(hyp)\n"
      ]
    },
    {
      "cell_type": "code",
      "source": [],
      "metadata": {
        "id": "qOf_s-vP4FJj"
      },
      "execution_count": null,
      "outputs": []
    },
    {
      "cell_type": "code",
      "source": [
        "import numpy as np\n",
        "import matplotlib.pyplot as plt\n",
        "#x = np.array([4,6,8,15,17,19,0,0,0,0,0,0])\n",
        "#y=np.array([0.2,0.4,0.6,0.8,0.8,0.6,0.4,0.2])\n",
        "\n",
        "X = np.array([[12.0], [13.0], [15.0], [19.616666666666667], [21.616666666666667], [22.616666666666667], [17.0], [17.2], [18.4], [18.6], [0.0], [0.0]])\n",
        "X=X.reshape(12,)\n",
        "print(X)\n",
        "y=np.array([[0.23119322528127], [200.22609856179042], [800.9010999342153], [800.5297172808816], [200.92446304186538], [0.60941999031827], [600.0], [600.0], [650.0], [50.0], [0.0], [0.0]])\n",
        "y=y.reshape(12,)\n",
        "#x = np.array([3.6,10.2,25,60,75.000,82.000])\n",
        "#y=np.array([0.2,0.4,0.8,0.8,0.4,0.2,0,0,0,0,0,0])\n",
        "\n",
        "z = np.polyfit(X, y, 6)\n",
        "#theta = np.array([-0.023330070734451702,2.515794513526737,-2.2061965093964826])\n",
        "hypothesis = np.poly1d(z)\n",
        "lin = np.linspace(12, 22.6, 100)\n",
        "\n",
        "plt.scatter(X, y)\n",
        "plt.plot(lin, hypothesis(lin))\n",
        "plt.show()\n",
        "print(z)"
      ],
      "metadata": {
        "colab": {
          "base_uri": "https://localhost:8080/",
          "height": 334
        },
        "id": "aW4OgDjvEA7F",
        "outputId": "103dc313-8f8d-4f59-dfeb-09e7e6820669"
      },
      "execution_count": null,
      "outputs": [
        {
          "output_type": "stream",
          "name": "stdout",
          "text": [
            "[12.         13.         15.         19.61666667 21.61666667 22.61666667\n",
            " 17.         17.2        18.4        18.6         0.          0.        ]\n"
          ]
        },
        {
          "output_type": "display_data",
          "data": {
            "text/plain": [
              "<Figure size 432x288 with 1 Axes>"
            ],
            "image/png": "[encoded data removed]"
          },
          "metadata": {
            "needs_background": "light"
          }
        },
        {
          "output_type": "stream",
          "name": "stdout",
          "text": [
            "[-6.26458453e-03  4.84960775e-01 -1.43829442e+01  2.00254273e+02\n",
            " -1.25980312e+03  2.63324520e+03  1.10840240e-02]\n"
          ]
        }
      ]
    },
    {
      "cell_type": "code",
      "source": [
        "import numpy as np\n",
        "import matplotlib.pyplot as plt\n",
        "X = np.array([[12.0], [13.0], [15.0], [19.616666666666667], [21.616666666666667], [22.616666666666667], [0.0], [0], [0], [0.0], [0.0], [0.0]])\n",
        "m = np.shape(X)[0]\n",
        "#X=X.reshape(12,)\n",
        "X = np.concatenate((np.ones((m, 1)), X), axis=1)\n",
        "X"
      ],
      "metadata": {
        "colab": {
          "base_uri": "https://localhost:8080/"
        },
        "id": "qTWhHdns4GSj",
        "outputId": "28ef43d7-875d-4fed-8ba1-eb86af776b5b"
      },
      "execution_count": null,
      "outputs": [
        {
          "output_type": "execute_result",
          "data": {
            "text/plain": [
              "array([[ 1.        , 12.        ],\n",
              "       [ 1.        , 13.        ],\n",
              "       [ 1.        , 15.        ],\n",
              "       [ 1.        , 19.61666667],\n",
              "       [ 1.        , 21.61666667],\n",
              "       [ 1.        , 22.61666667],\n",
              "       [ 1.        ,  0.        ],\n",
              "       [ 1.        ,  0.        ],\n",
              "       [ 1.        ,  0.        ],\n",
              "       [ 1.        ,  0.        ],\n",
              "       [ 1.        ,  0.        ],\n",
              "       [ 1.        ,  0.        ]])"
            ]
          },
          "metadata": {},
          "execution_count": 16
        }
      ]
    }
  ]
}